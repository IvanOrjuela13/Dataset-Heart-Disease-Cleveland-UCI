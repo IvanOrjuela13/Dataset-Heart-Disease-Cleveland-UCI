{
 "cells": [
  {
   "cell_type": "markdown",
   "id": "5b79ccd0-227a-4c68-8d90-785f4c3f3c60",
   "metadata": {},
   "source": [
    "**Regresion_Logistica**"
   ]
  },
  {
   "cell_type": "code",
   "execution_count": null,
   "id": "49a63c51-8f76-4428-9f5e-6c6dcd2fa271",
   "metadata": {},
   "outputs": [],
   "source": [
    "import numpy as np\n",
    "import pandas as pd\n",
    "import matplotlib.pyplot as plt\n",
    "from sklearn.model_selection import train_test_split\n",
    "from sklearn.linear_model import LogisticRegression\n",
    "from sklearn.metrics import accuracy_score, classification_report\n",
    "\n",
    "# Cargar los datos\n",
    "data = pd.read_csv('heart_cleveland_upload.csv')  # Reemplaza 'heart_cleveland_upload.csv' con el nombre de tu archivo CSV\n",
    "\n",
    "# Explorar los datos\n",
    "print(data.head())\n",
    "\n",
    "# Dividir los datos en características (X) y etiquetas (y)\n",
    "X = data[['age', 'sex', 'cp', 'trestbps', 'chol', 'fbs', 'restecg', 'thalach', 'exang', 'oldpeak', 'slope', 'ca', 'thal']]\n",
    "y = data['condition']  # Cambiar la etiqueta a la variable de destino ('condition')\n",
    "\n",
    "# Dividir los datos en conjuntos de entrenamiento y prueba\n",
    "X_train, X_test, y_train, y_test = train_test_split(X, y, test_size=0.2, random_state=42)\n",
    "\n",
    "# Crear el modelo de regresión logística\n",
    "model = LogisticRegression()\n",
    "\n",
    "# Entrenar el modelo\n",
    "model.fit(X_train, y_train)\n",
    "\n",
    "# Hacer predicciones\n",
    "y_pred = model.predict(X_test)\n",
    "\n",
    "# Evaluar el modelo\n",
    "accuracy = accuracy_score(y_test, y_pred)\n",
    "classification_rep = classification_report(y_test, y_pred)\n",
    "\n",
    "print('Accuracy:', accuracy)\n",
    "print('Classification Report:\\n', classification_rep)"
   ]
  }
 ],
 "metadata": {
  "kernelspec": {
   "display_name": "Python 3 (ipykernel)",
   "language": "python",
   "name": "python3"
  },
  "language_info": {
   "codemirror_mode": {
    "name": "ipython",
    "version": 3
   },
   "file_extension": ".py",
   "mimetype": "text/x-python",
   "name": "python",
   "nbconvert_exporter": "python",
   "pygments_lexer": "ipython3",
   "version": "3.11.7"
  }
 },
 "nbformat": 4,
 "nbformat_minor": 5
}
